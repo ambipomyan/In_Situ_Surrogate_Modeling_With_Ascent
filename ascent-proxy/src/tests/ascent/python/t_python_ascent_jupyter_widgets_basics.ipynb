{
 "cells": [
  {
   "cell_type": "code",
   "execution_count": null,
   "metadata": {},
   "outputs": [],
   "source": [
    "# setup imports\n",
    "import conduit\n",
    "import conduit.blueprint\n",
    "import ascent\n",
    "\n",
    "\n",
    "# setup example mesh\n",
    "mesh = conduit.Node()\n",
    "conduit.blueprint.mesh.examples.braid(\"hexs\",\n",
    "                                      50,\n",
    "                                      50,\n",
    "                                      50,\n",
    "                                      mesh)"
   ]
  },
  {
   "cell_type": "code",
   "execution_count": null,
   "metadata": {},
   "outputs": [],
   "source": [
    "# create check status\n",
    "a = ascent.Ascent()\n",
    "\n",
    "ascent.jupyter.AscentViewer(a).show()"
   ]
  },
  {
   "cell_type": "code",
   "execution_count": null,
   "metadata": {},
   "outputs": [],
   "source": [
    "# open and check status\n",
    "a.open()\n",
    "\n",
    "ascent.jupyter.AscentViewer(a).show()"
   ]
  },
  {
   "cell_type": "code",
   "execution_count": null,
   "metadata": {},
   "outputs": [],
   "source": [
    "# open again, should report an error\n",
    "a.open()\n",
    "\n",
    "ascent.jupyter.AscentViewer(a).show()"
   ]
  },
  {
   "cell_type": "code",
   "execution_count": null,
   "metadata": {},
   "outputs": [],
   "source": [
    "# publish and check status\n",
    "a.publish(mesh)\n",
    "\n",
    "ascent.jupyter.AscentViewer(a).show()"
   ]
  },
  {
   "cell_type": "code",
   "execution_count": null,
   "metadata": {},
   "outputs": [],
   "source": [
    "# exec a valid scene\n",
    "actions = conduit.Node()\n",
    "add_act = actions.append()\n",
    "add_act[\"action\"] = \"add_scenes\"\n",
    "scenes = add_act[\"scenes\"]\n",
    "scenes[\"s1/plots/p1/type\"] = \"pseudocolor\"\n",
    "scenes[\"s1/plots/p1/field\"] = \"braid\"\n",
    "scenes[\"s1/renders/r1/image_prefix\"] = \"blah_1_\" \n",
    "scenes[\"s1/renders/r2/image_prefix\"] = \"blah_2_\" \n",
    "scenes[\"s1/renders/r2/camera/azimuth\"] = 30\n",
    "a.execute(actions)\n",
    "\n",
    "ascent.jupyter.AscentViewer(a).show()"
   ]
  },
  {
   "cell_type": "code",
   "execution_count": null,
   "metadata": {},
   "outputs": [],
   "source": [
    "# exec a invalid scene\n",
    "actions = conduit.Node()\n",
    "add_act = actions.append()\n",
    "add_act[\"action\"] = \"add_bananas\"\n",
    "a.execute(actions)\n",
    "\n",
    "ascent.jupyter.AscentViewer(a).show()"
   ]
  },
  {
   "cell_type": "code",
   "execution_count": null,
   "metadata": {},
   "outputs": [],
   "source": [
    "# shutdown and check status\n",
    "a.close()\n",
    "\n",
    "ascent.jupyter.AscentViewer(a).show()"
   ]
  },
  {
   "cell_type": "code",
   "execution_count": null,
   "metadata": {},
   "outputs": [],
   "source": [
    "# pubish to shutdown instance, should report an error\n",
    "a.publish(mesh)\n",
    "\n",
    "ascent.jupyter.AscentViewer(a).show()"
   ]
  },
  {
   "cell_type": "code",
   "execution_count": null,
   "metadata": {},
   "outputs": [],
   "source": [
    "#test expressions view\n",
    "\n",
    "a = ascent.Ascent()\n",
    "a.open()\n",
    "a.publish(mesh)\n",
    "\n",
    "actions_yaml =\"\"\"\n",
    "-\n",
    "  action: \"add_queries\"\n",
    "  queries:\n",
    "    q1:\n",
    "      params:\n",
    "        # get the maximum value of a field\n",
    "        expression: \"max(field('braid'))\"\n",
    "        name: \"max_braid\"\n",
    "\"\"\"\n",
    "\n",
    "actions = conduit.Node()\n",
    "actions.parse(actions_yaml,\"yaml\")\n",
    "a.execute(actions)\n",
    "\n",
    "\n",
    "ascent.jupyter.AscentViewer(a).show()"
   ]
  },
  {
   "cell_type": "code",
   "execution_count": null,
   "metadata": {},
   "outputs": [],
   "source": [
    "#test extracts view\n",
    "\n",
    "a = ascent.Ascent()\n",
    "a.open()\n",
    "a.publish(mesh)\n",
    "\n",
    "actions_yaml =\"\"\"\n",
    "-\n",
    "  action: \"add_extracts\"\n",
    "  extracts:\n",
    "    e1:\n",
    "      type: \"relay\"\n",
    "      params:\n",
    "        path: \"tout_export\"\n",
    "        protocol: \"blueprint/mesh/hdf5\"\n",
    "\"\"\"\n",
    "\n",
    "actions = conduit.Node()\n",
    "actions.parse(actions_yaml,\"yaml\")\n",
    "a.execute(actions)\n",
    "\n",
    "\n",
    "ascent.jupyter.AscentViewer(a).show()"
   ]
  }
 ],
 "metadata": {
  "kernelspec": {
   "display_name": "Python 3",
   "language": "python",
   "name": "python3"
  },
  "language_info": {
   "codemirror_mode": {
    "name": "ipython",
    "version": 3
   },
   "file_extension": ".py",
   "mimetype": "text/x-python",
   "name": "python",
   "nbconvert_exporter": "python",
   "pygments_lexer": "ipython3",
   "version": "3.7.6"
  }
 },
 "nbformat": 4,
 "nbformat_minor": 4
}
